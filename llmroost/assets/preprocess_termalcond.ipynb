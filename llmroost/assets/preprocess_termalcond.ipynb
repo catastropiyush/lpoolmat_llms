{
 "cells": [
  {
   "cell_type": "code",
   "execution_count": 5,
   "metadata": {},
   "outputs": [],
   "source": [
    "import pandas as pd\n",
    "import numpy as np\n",
    "import os"
   ]
  },
  {
   "cell_type": "code",
   "execution_count": 6,
   "metadata": {},
   "outputs": [
    {
     "data": {
      "text/plain": [
       "'/home/fedeotto/lpoolmat_llms/llmroost/assets'"
      ]
     },
     "execution_count": 6,
     "metadata": {},
     "output_type": "execute_result"
    }
   ],
   "source": [
    "os.getcwd()"
   ]
  },
  {
   "cell_type": "code",
   "execution_count": 8,
   "metadata": {},
   "outputs": [
    {
     "data": {
      "text/html": [
       "<div>\n",
       "<style scoped>\n",
       "    .dataframe tbody tr th:only-of-type {\n",
       "        vertical-align: middle;\n",
       "    }\n",
       "\n",
       "    .dataframe tbody tr th {\n",
       "        vertical-align: top;\n",
       "    }\n",
       "\n",
       "    .dataframe thead th {\n",
       "        text-align: right;\n",
       "    }\n",
       "</style>\n",
       "<table border=\"1\" class=\"dataframe\">\n",
       "  <thead>\n",
       "    <tr style=\"text-align: right;\">\n",
       "      <th></th>\n",
       "      <th>formula</th>\n",
       "      <th>composition</th>\n",
       "      <th>target</th>\n",
       "      <th>DOI</th>\n",
       "    </tr>\n",
       "  </thead>\n",
       "  <tbody>\n",
       "    <tr>\n",
       "      <th>0</th>\n",
       "      <td>(BiS)1.2(TiS2)2</td>\n",
       "      <td>S10000Ti431Bi431</td>\n",
       "      <td>2.80</td>\n",
       "      <td>10.3390/ma3042606</td>\n",
       "    </tr>\n",
       "    <tr>\n",
       "      <th>1</th>\n",
       "      <td>(Na,Ca)Co2O4</td>\n",
       "      <td>O10000Na2500Ca2500Co5000</td>\n",
       "      <td>2.00</td>\n",
       "      <td>10.1103/PhysRevB.61.12551</td>\n",
       "    </tr>\n",
       "    <tr>\n",
       "      <th>2</th>\n",
       "      <td>(PbS)1.2(TiS2)2</td>\n",
       "      <td>S10000Ti431Pb431</td>\n",
       "      <td>2.80</td>\n",
       "      <td>10.3390/ma3042606</td>\n",
       "    </tr>\n",
       "    <tr>\n",
       "      <th>3</th>\n",
       "      <td>(SnS)1.2(TiS2)2</td>\n",
       "      <td>S10000Ti431Sn431</td>\n",
       "      <td>2.40</td>\n",
       "      <td>10.3390/ma3042606</td>\n",
       "    </tr>\n",
       "    <tr>\n",
       "      <th>4</th>\n",
       "      <td>AgBiSe2</td>\n",
       "      <td>Se10000Ag5000Bi5000</td>\n",
       "      <td>0.63</td>\n",
       "      <td>10.1039/C2EE23391F</td>\n",
       "    </tr>\n",
       "  </tbody>\n",
       "</table>\n",
       "</div>"
      ],
      "text/plain": [
       "           formula               composition  target  \\\n",
       "0  (BiS)1.2(TiS2)2          S10000Ti431Bi431    2.80   \n",
       "1     (Na,Ca)Co2O4  O10000Na2500Ca2500Co5000    2.00   \n",
       "2  (PbS)1.2(TiS2)2          S10000Ti431Pb431    2.80   \n",
       "3  (SnS)1.2(TiS2)2          S10000Ti431Sn431    2.40   \n",
       "4          AgBiSe2       Se10000Ag5000Bi5000    0.63   \n",
       "\n",
       "                         DOI  \n",
       "0          10.3390/ma3042606  \n",
       "1  10.1103/PhysRevB.61.12551  \n",
       "2          10.3390/ma3042606  \n",
       "3          10.3390/ma3042606  \n",
       "4         10.1039/C2EE23391F  "
      ]
     },
     "execution_count": 8,
     "metadata": {},
     "output_type": "execute_result"
    }
   ],
   "source": [
    "df = pd.read_excel('../datasets/Termal_conductivity_300K.xlsx')\n",
    "df.head()"
   ]
  },
  {
   "cell_type": "code",
   "execution_count": 10,
   "metadata": {},
   "outputs": [],
   "source": [
    "df = df[['formula','target']]"
   ]
  },
  {
   "cell_type": "code",
   "execution_count": 14,
   "metadata": {},
   "outputs": [],
   "source": [
    "df = df.groupby('formula',sort=False).median().reset_index()"
   ]
  },
  {
   "cell_type": "code",
   "execution_count": 17,
   "metadata": {},
   "outputs": [],
   "source": [
    "df = df.drop_duplicates(subset='formula')"
   ]
  },
  {
   "cell_type": "code",
   "execution_count": 18,
   "metadata": {},
   "outputs": [],
   "source": [
    "df.to_excel('../datasets/Termal_conductivity_300K_processed.xlsx', index=False)"
   ]
  },
  {
   "cell_type": "code",
   "execution_count": 19,
   "metadata": {},
   "outputs": [
    {
     "data": {
      "text/html": [
       "<div>\n",
       "<style scoped>\n",
       "    .dataframe tbody tr th:only-of-type {\n",
       "        vertical-align: middle;\n",
       "    }\n",
       "\n",
       "    .dataframe tbody tr th {\n",
       "        vertical-align: top;\n",
       "    }\n",
       "\n",
       "    .dataframe thead th {\n",
       "        text-align: right;\n",
       "    }\n",
       "</style>\n",
       "<table border=\"1\" class=\"dataframe\">\n",
       "  <thead>\n",
       "    <tr style=\"text-align: right;\">\n",
       "      <th></th>\n",
       "      <th>formula</th>\n",
       "      <th>target</th>\n",
       "    </tr>\n",
       "  </thead>\n",
       "  <tbody>\n",
       "    <tr>\n",
       "      <th>0</th>\n",
       "      <td>(BiS)1.2(TiS2)2</td>\n",
       "      <td>2.80</td>\n",
       "    </tr>\n",
       "    <tr>\n",
       "      <th>1</th>\n",
       "      <td>(Na,Ca)Co2O4</td>\n",
       "      <td>2.00</td>\n",
       "    </tr>\n",
       "    <tr>\n",
       "      <th>2</th>\n",
       "      <td>(PbS)1.2(TiS2)2</td>\n",
       "      <td>2.80</td>\n",
       "    </tr>\n",
       "    <tr>\n",
       "      <th>3</th>\n",
       "      <td>(SnS)1.2(TiS2)2</td>\n",
       "      <td>2.40</td>\n",
       "    </tr>\n",
       "    <tr>\n",
       "      <th>4</th>\n",
       "      <td>AgBiSe2</td>\n",
       "      <td>0.63</td>\n",
       "    </tr>\n",
       "    <tr>\n",
       "      <th>...</th>\n",
       "      <td>...</td>\n",
       "      <td>...</td>\n",
       "    </tr>\n",
       "    <tr>\n",
       "      <th>2098</th>\n",
       "      <td>Zr</td>\n",
       "      <td>23.10</td>\n",
       "    </tr>\n",
       "    <tr>\n",
       "      <th>2099</th>\n",
       "      <td>ZrC</td>\n",
       "      <td>13.30</td>\n",
       "    </tr>\n",
       "    <tr>\n",
       "      <th>2100</th>\n",
       "      <td>ZrN</td>\n",
       "      <td>21.80</td>\n",
       "    </tr>\n",
       "    <tr>\n",
       "      <th>2101</th>\n",
       "      <td>Bi1.2Ti2S5.2</td>\n",
       "      <td>2.76</td>\n",
       "    </tr>\n",
       "    <tr>\n",
       "      <th>2102</th>\n",
       "      <td>Pb1.18Ti2S5.18</td>\n",
       "      <td>2.80</td>\n",
       "    </tr>\n",
       "  </tbody>\n",
       "</table>\n",
       "<p>2103 rows × 2 columns</p>\n",
       "</div>"
      ],
      "text/plain": [
       "              formula  target\n",
       "0     (BiS)1.2(TiS2)2    2.80\n",
       "1        (Na,Ca)Co2O4    2.00\n",
       "2     (PbS)1.2(TiS2)2    2.80\n",
       "3     (SnS)1.2(TiS2)2    2.40\n",
       "4             AgBiSe2    0.63\n",
       "...               ...     ...\n",
       "2098               Zr   23.10\n",
       "2099              ZrC   13.30\n",
       "2100              ZrN   21.80\n",
       "2101     Bi1.2Ti2S5.2    2.76\n",
       "2102   Pb1.18Ti2S5.18    2.80\n",
       "\n",
       "[2103 rows x 2 columns]"
      ]
     },
     "execution_count": 19,
     "metadata": {},
     "output_type": "execute_result"
    }
   ],
   "source": [
    "df"
   ]
  }
 ],
 "metadata": {
  "kernelspec": {
   "display_name": "llms",
   "language": "python",
   "name": "python3"
  },
  "language_info": {
   "codemirror_mode": {
    "name": "ipython",
    "version": 3
   },
   "file_extension": ".py",
   "mimetype": "text/x-python",
   "name": "python",
   "nbconvert_exporter": "python",
   "pygments_lexer": "ipython3",
   "version": "3.9.19"
  }
 },
 "nbformat": 4,
 "nbformat_minor": 2
}
