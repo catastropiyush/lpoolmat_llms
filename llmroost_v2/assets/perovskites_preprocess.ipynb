{
 "cells": [
  {
   "cell_type": "code",
   "execution_count": null,
   "metadata": {},
   "outputs": [],
   "source": [
    "import pandas as pd\n",
    "import numpy as np\n",
    "from matminer.datasets import load_dataset"
   ]
  },
  {
   "cell_type": "code",
   "execution_count": null,
   "metadata": {},
   "outputs": [],
   "source": [
    "perov = load_dataset(\"matbench_perovskites\")"
   ]
  },
  {
   "cell_type": "code",
   "execution_count": null,
   "metadata": {},
   "outputs": [],
   "source": [
    "def get_form(structure):\n",
    "    return structure.composition.reduced_formula"
   ]
  },
  {
   "cell_type": "code",
   "execution_count": null,
   "metadata": {},
   "outputs": [],
   "source": [
    "perov = perov[['formula','e_form']]\n",
    "perov = perov.rename(columns={'e_form':'target'})\n",
    "perov = perov.groupby('formula', sort=False).median().reset_index()\n",
    "perov.to_excel('datasets/matbench_perovskites.xlsx', index=False) "
   ]
  }
 ],
 "metadata": {
  "language_info": {
   "name": "python"
  }
 },
 "nbformat": 4,
 "nbformat_minor": 2
}
